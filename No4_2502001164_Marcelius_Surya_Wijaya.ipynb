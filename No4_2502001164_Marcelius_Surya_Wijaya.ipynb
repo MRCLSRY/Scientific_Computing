{
  "nbformat": 4,
  "nbformat_minor": 0,
  "metadata": {
    "colab": {
      "provenance": []
    },
    "kernelspec": {
      "name": "python3",
      "display_name": "Python 3"
    },
    "language_info": {
      "name": "python"
    }
  },
  "cells": [
    {
      "cell_type": "markdown",
      "source": [
        "# No 4"
      ],
      "metadata": {
        "id": "9P7hDPSqxU_5"
      }
    },
    {
      "cell_type": "markdown",
      "source": [
        "2502001154 - Marcelius Surya Wijaya"
      ],
      "metadata": {
        "id": "0IhibSB7xRem"
      }
    },
    {
      "cell_type": "markdown",
      "source": [
        "# 4B - Euler 0.01"
      ],
      "metadata": {
        "id": "4kaSKfeG2Ui2"
      }
    },
    {
      "cell_type": "code",
      "source": [
        "# 2502001164 - Marcelius Surya Wijaya\n",
        "# Euler 0.01\n",
        "import numpy as np\n",
        "import matplotlib.pyplot as plt\n",
        "\n",
        "f = lambda x,y : 2*y + 1\n",
        "eksak = lambda x : (-1/2) + ((3/2)*np.exp(2*x))\n",
        "\n",
        "# nilai x dan y\n",
        "x = 0\n",
        "xn = 1\n",
        "y = 1\n",
        "h1 = 0.01\n",
        "n = int((xn - x)/h1) #Mencari jumlah step\n",
        "\n",
        "# Set xp dari 0 sampai 1\n",
        "xp = np.linspace(x, xn, n+1)\n",
        "\n",
        "# Set nilai yp = 0\n",
        "yp = np.zeros(len(xp))\n",
        "yp[0] = y\n",
        "\n",
        "# Skema numerik Euler\n",
        "print('  x  |   Eksak  | Euler')\n",
        "print('----------------------')\n",
        "print('%.2f | %.6f | %.6f ' %(x,eksak(x),y))\n",
        "for i in range(1, n+1):\n",
        "  y = y + h1*f(x,y)\n",
        "  yp[i] = y\n",
        "  x = x + h1\n",
        "  print('%.2f | %.6f | %.6f ' %(x, eksak(x), y))\n",
        "ye = y\n",
        "# Plot graph\n",
        "plt.style.use('seaborn-poster')\n",
        "plt.figure(figsize=(10, 6))\n",
        "plt.title(\"Euler 0.01\")\n",
        "plt.plot(xp, yp, 'b-')\n",
        "plt.plot(xp, eksak(xp), 'r-')\n",
        "plt.legend(['Euler','Eksak'])\n",
        "plt.grid()\n",
        "plt.show()"
      ],
      "metadata": {
        "colab": {
          "base_uri": "https://localhost:8080/",
          "height": 1000
        },
        "id": "wE5c3TBZ2g5w",
        "outputId": "50b64f94-4872-4285-8a21-a510b6b86cbc"
      },
      "execution_count": null,
      "outputs": [
        {
          "output_type": "stream",
          "name": "stdout",
          "text": [
            "  x  |   Eksak  | Euler\n",
            "----------------------\n",
            "0.00 | 1.000000 | 1.000000 \n",
            "0.01 | 1.030302 | 1.030000 \n",
            "0.02 | 1.061216 | 1.060600 \n",
            "0.03 | 1.092755 | 1.091812 \n",
            "0.04 | 1.124931 | 1.123648 \n",
            "0.05 | 1.157756 | 1.156121 \n",
            "0.06 | 1.191245 | 1.189244 \n",
            "0.07 | 1.225411 | 1.223029 \n",
            "0.08 | 1.260266 | 1.257489 \n",
            "0.09 | 1.295826 | 1.292639 \n",
            "0.10 | 1.332104 | 1.328492 \n",
            "0.11 | 1.369115 | 1.365061 \n",
            "0.12 | 1.406874 | 1.402363 \n",
            "0.13 | 1.445395 | 1.440410 \n",
            "0.14 | 1.484695 | 1.479218 \n",
            "0.15 | 1.524788 | 1.518803 \n",
            "0.16 | 1.565692 | 1.559179 \n",
            "0.17 | 1.607421 | 1.600362 \n",
            "0.18 | 1.649994 | 1.642369 \n",
            "0.19 | 1.693427 | 1.685217 \n",
            "0.20 | 1.737737 | 1.728921 \n",
            "0.21 | 1.782942 | 1.773500 \n",
            "0.22 | 1.829061 | 1.818970 \n",
            "0.23 | 1.876111 | 1.865349 \n",
            "0.24 | 1.924112 | 1.912656 \n",
            "0.25 | 1.973082 | 1.960909 \n",
            "0.26 | 2.023041 | 2.010127 \n",
            "0.27 | 2.074010 | 2.060330 \n",
            "0.28 | 2.126009 | 2.111536 \n",
            "0.29 | 2.179058 | 2.163767 \n",
            "0.30 | 2.233178 | 2.217042 \n",
            "0.31 | 2.288392 | 2.271383 \n",
            "0.32 | 2.344721 | 2.326811 \n",
            "0.33 | 2.402189 | 2.383347 \n",
            "0.34 | 2.460817 | 2.441014 \n",
            "0.35 | 2.520629 | 2.499834 \n",
            "0.36 | 2.581650 | 2.559831 \n",
            "0.37 | 2.643903 | 2.621028 \n",
            "0.38 | 2.707414 | 2.683448 \n",
            "0.39 | 2.772208 | 2.747117 \n",
            "0.40 | 2.838311 | 2.812059 \n",
            "0.41 | 2.905750 | 2.878301 \n",
            "0.42 | 2.974550 | 2.945867 \n",
            "0.43 | 3.044741 | 3.014784 \n",
            "0.44 | 3.116350 | 3.085080 \n",
            "0.45 | 3.189405 | 3.156781 \n",
            "0.46 | 3.263936 | 3.229917 \n",
            "0.47 | 3.339972 | 3.304515 \n",
            "0.48 | 3.417545 | 3.380606 \n",
            "0.49 | 3.496684 | 3.458218 \n",
            "0.50 | 3.577423 | 3.537382 \n",
            "0.51 | 3.659792 | 3.618130 \n",
            "0.52 | 3.743826 | 3.700492 \n",
            "0.53 | 3.829556 | 3.784502 \n",
            "0.54 | 3.917019 | 3.870192 \n",
            "0.55 | 4.006249 | 3.957596 \n",
            "0.56 | 4.097281 | 4.046748 \n",
            "0.57 | 4.190153 | 4.137683 \n",
            "0.58 | 4.284900 | 4.230437 \n",
            "0.59 | 4.381561 | 4.325045 \n",
            "0.60 | 4.480175 | 4.421546 \n",
            "0.61 | 4.580782 | 4.519977 \n",
            "0.62 | 4.683420 | 4.620377 \n",
            "0.63 | 4.788132 | 4.722784 \n",
            "0.64 | 4.894960 | 4.827240 \n",
            "0.65 | 5.003945 | 4.933785 \n",
            "0.66 | 5.115132 | 5.042460 \n",
            "0.67 | 5.228565 | 5.153310 \n",
            "0.68 | 5.344290 | 5.266376 \n",
            "0.69 | 5.462352 | 5.381703 \n",
            "0.70 | 5.582800 | 5.499337 \n",
            "0.71 | 5.705681 | 5.619324 \n",
            "0.72 | 5.831044 | 5.741711 \n",
            "0.73 | 5.958939 | 5.866545 \n",
            "0.74 | 6.089419 | 5.993876 \n",
            "0.75 | 6.222534 | 6.123753 \n",
            "0.76 | 6.358338 | 6.256228 \n",
            "0.77 | 6.496885 | 6.391353 \n",
            "0.78 | 6.638232 | 6.529180 \n",
            "0.79 | 6.782434 | 6.669763 \n",
            "0.80 | 6.929549 | 6.813159 \n",
            "0.81 | 7.079635 | 6.959422 \n",
            "0.82 | 7.232754 | 7.108610 \n",
            "0.83 | 7.388966 | 7.260783 \n",
            "0.84 | 7.548334 | 7.415998 \n",
            "0.85 | 7.710921 | 7.574318 \n",
            "0.86 | 7.876793 | 7.735805 \n",
            "0.87 | 8.046015 | 7.900521 \n",
            "0.88 | 8.218656 | 8.068531 \n",
            "0.89 | 8.394785 | 8.239902 \n",
            "0.90 | 8.574471 | 8.414700 \n",
            "0.91 | 8.757788 | 8.592994 \n",
            "0.92 | 8.944807 | 8.774854 \n",
            "0.93 | 9.135605 | 8.960351 \n",
            "0.94 | 9.330257 | 9.149558 \n",
            "0.95 | 9.528842 | 9.342549 \n",
            "0.96 | 9.731438 | 9.539400 \n",
            "0.97 | 9.938126 | 9.740188 \n",
            "0.98 | 10.148991 | 9.944992 \n",
            "0.99 | 10.364114 | 10.153891 \n",
            "1.00 | 10.583584 | 10.366969 \n"
          ]
        },
        {
          "output_type": "display_data",
          "data": {
            "text/plain": [
              "<Figure size 720x432 with 1 Axes>"
            ],
            "image/png": "[encoded data removed]"
          },
          "metadata": {
            "needs_background": "light"
          }
        }
      ]
    },
    {
      "cell_type": "markdown",
      "source": [
        "# Runge Kutta 0.01"
      ],
      "metadata": {
        "id": "RPwYgapT2A4Q"
      }
    },
    {
      "cell_type": "code",
      "source": [
        "# 2502001164 - Marcelius Surya Wijaya\n",
        "# Runge Kutta 0.01\n",
        "import numpy as np\n",
        "import matplotlib.pyplot as plt\n",
        "\n",
        "f = lambda x,y : 2*y + 1\n",
        "eksak = lambda x : (-1/2) + ((3/2)*np.exp(2*x))\n",
        "\n",
        "# nilai x dan y\n",
        "x = 0\n",
        "xn = 1\n",
        "y = 1\n",
        "h1 = 0.01\n",
        "n = int((xn - x)/h1) #Mencari jumlah step\n",
        "\n",
        "# Set xp dari 0 sampai 1\n",
        "xp = np.linspace(x, xn, n+1)\n",
        "\n",
        "# Set nilai yp = 0\n",
        "yp = np.zeros(len(xp))\n",
        "yp[0] = y\n",
        "\n",
        "# Skema numerik Runge Kutta\n",
        "print('  x  |   Eksak  | RungeKutta')\n",
        "print('----------------------')\n",
        "print('%.2f | %.6f | %.6f ' %(x,eksak(x),y))\n",
        "for i in range(1, n+1):\n",
        "  K1 = h1*f(x,y)\n",
        "  K2 = h1*f(x+h1, y + K1/2)\n",
        "  K3 = h1*f(x+h1, y - K1*K2/2)\n",
        "  K4 = h1*f(x+h1, y + K3)\n",
        "  y = y + (1/6)*(K1 + 2*K2 + 2*K3 + K4)\n",
        "  yp[i] = y\n",
        "  x = x + h1\n",
        "  print('%.2f | %.6f | %.6f ' %(x, eksak(x), y))\n",
        "yr = y\n",
        "# Plot graph\n",
        "plt.style.use('seaborn-poster')\n",
        "plt.figure(figsize=(10, 6))\n",
        "plt.title(\"Runge Kutta 0.01\")\n",
        "plt.plot(xp, yp, 'b-')\n",
        "plt.plot(xp, eksak(xp), 'r-')\n",
        "plt.legend(['Runge Kutta','Eksak'])\n",
        "plt.grid()\n",
        "plt.show()"
      ],
      "metadata": {
        "colab": {
          "base_uri": "https://localhost:8080/",
          "height": 1000
        },
        "id": "NKHA55t8xXRL",
        "outputId": "2123e114-ef19-4c65-8b66-bcbea17c2209"
      },
      "execution_count": null,
      "outputs": [
        {
          "output_type": "stream",
          "name": "stdout",
          "text": [
            "  x  |   Eksak  | RungeKutta\n",
            "----------------------\n",
            "0.00 | 1.000000 | 1.000000 \n",
            "0.01 | 1.030302 | 1.030197 \n",
            "0.02 | 1.061216 | 1.061002 \n",
            "0.03 | 1.092755 | 1.092427 \n",
            "0.04 | 1.124931 | 1.124484 \n",
            "0.05 | 1.157756 | 1.157187 \n",
            "0.06 | 1.191245 | 1.190548 \n",
            "0.07 | 1.225411 | 1.224580 \n",
            "0.08 | 1.260266 | 1.259298 \n",
            "0.09 | 1.295826 | 1.294714 \n",
            "0.10 | 1.332104 | 1.330843 \n",
            "0.11 | 1.369115 | 1.367700 \n",
            "0.12 | 1.406874 | 1.405298 \n",
            "0.13 | 1.445395 | 1.443653 \n",
            "0.14 | 1.484695 | 1.482780 \n",
            "0.15 | 1.524788 | 1.522695 \n",
            "0.16 | 1.565692 | 1.563413 \n",
            "0.17 | 1.607421 | 1.604950 \n",
            "0.18 | 1.649994 | 1.647324 \n",
            "0.19 | 1.693427 | 1.690550 \n",
            "0.20 | 1.737737 | 1.734647 \n",
            "0.21 | 1.782942 | 1.779631 \n",
            "0.22 | 1.829061 | 1.825520 \n",
            "0.23 | 1.876111 | 1.872334 \n",
            "0.24 | 1.924112 | 1.920089 \n",
            "0.25 | 1.973082 | 1.968805 \n",
            "0.26 | 2.023041 | 2.018502 \n",
            "0.27 | 2.074010 | 2.069200 \n",
            "0.28 | 2.126009 | 2.120917 \n",
            "0.29 | 2.179058 | 2.173676 \n",
            "0.30 | 2.233178 | 2.227496 \n",
            "0.31 | 2.288392 | 2.282399 \n",
            "0.32 | 2.344721 | 2.338408 \n",
            "0.33 | 2.402189 | 2.395543 \n",
            "0.34 | 2.460817 | 2.453829 \n",
            "0.35 | 2.520629 | 2.513288 \n",
            "0.36 | 2.581650 | 2.573943 \n",
            "0.37 | 2.643903 | 2.635819 \n",
            "0.38 | 2.707414 | 2.698940 \n",
            "0.39 | 2.772208 | 2.763331 \n",
            "0.40 | 2.838311 | 2.829018 \n",
            "0.41 | 2.905750 | 2.896028 \n",
            "0.42 | 2.974550 | 2.964385 \n",
            "0.43 | 3.044741 | 3.034118 \n",
            "0.44 | 3.116350 | 3.105255 \n",
            "0.45 | 3.189405 | 3.177823 \n",
            "0.46 | 3.263936 | 3.251852 \n",
            "0.47 | 3.339972 | 3.327370 \n",
            "0.48 | 3.417545 | 3.404408 \n",
            "0.49 | 3.496684 | 3.482996 \n",
            "0.50 | 3.577423 | 3.563165 \n",
            "0.51 | 3.659792 | 3.644948 \n",
            "0.52 | 3.743826 | 3.728376 \n",
            "0.53 | 3.829556 | 3.813483 \n",
            "0.54 | 3.917019 | 3.900302 \n",
            "0.55 | 4.006249 | 3.988869 \n",
            "0.56 | 4.097281 | 4.079217 \n",
            "0.57 | 4.190153 | 4.171384 \n",
            "0.58 | 4.284900 | 4.265404 \n",
            "0.59 | 4.381561 | 4.361317 \n",
            "0.60 | 4.480175 | 4.459159 \n",
            "0.61 | 4.580782 | 4.558970 \n",
            "0.62 | 4.683420 | 4.660789 \n",
            "0.63 | 4.788132 | 4.764657 \n",
            "0.64 | 4.894960 | 4.870615 \n",
            "0.65 | 5.003945 | 4.978704 \n",
            "0.66 | 5.115132 | 5.088967 \n",
            "0.67 | 5.228565 | 5.201449 \n",
            "0.68 | 5.344290 | 5.316194 \n",
            "0.69 | 5.462352 | 5.433248 \n",
            "0.70 | 5.582800 | 5.552656 \n",
            "0.71 | 5.705681 | 5.674466 \n",
            "0.72 | 5.831044 | 5.798727 \n",
            "0.73 | 5.958939 | 5.925487 \n",
            "0.74 | 6.089419 | 6.054798 \n",
            "0.75 | 6.222534 | 6.186709 \n",
            "0.76 | 6.358338 | 6.321274 \n",
            "0.77 | 6.496885 | 6.458546 \n",
            "0.78 | 6.638232 | 6.598579 \n",
            "0.79 | 6.782434 | 6.741428 \n",
            "0.80 | 6.929549 | 6.887151 \n",
            "0.81 | 7.079635 | 7.035805 \n",
            "0.82 | 7.232754 | 7.187448 \n",
            "0.83 | 7.388966 | 7.342142 \n",
            "0.84 | 7.548334 | 7.499947 \n",
            "0.85 | 7.710921 | 7.660925 \n",
            "0.86 | 7.876793 | 7.825141 \n",
            "0.87 | 8.046015 | 7.992660 \n",
            "0.88 | 8.218656 | 8.163547 \n",
            "0.89 | 8.394785 | 8.337871 \n",
            "0.90 | 8.574471 | 8.515701 \n",
            "0.91 | 8.757788 | 8.697107 \n",
            "0.92 | 8.944807 | 8.882160 \n",
            "0.93 | 9.135605 | 9.070934 \n",
            "0.94 | 9.330257 | 9.263505 \n",
            "0.95 | 9.528842 | 9.459947 \n",
            "0.96 | 9.731438 | 9.660339 \n",
            "0.97 | 9.938126 | 9.864760 \n",
            "0.98 | 10.148991 | 10.073291 \n",
            "0.99 | 10.364114 | 10.286014 \n",
            "1.00 | 10.583584 | 10.503015 \n"
          ]
        },
        {
          "output_type": "display_data",
          "data": {
            "text/plain": [
              "<Figure size 720x432 with 1 Axes>"
            ],
            "image/png": "[encoded data removed]"
          },
          "metadata": {
            "needs_background": "light"
          }
        }
      ]
    },
    {
      "cell_type": "markdown",
      "source": [
        "# Euler 0.05"
      ],
      "metadata": {
        "id": "2gB_Bgc43U3T"
      }
    },
    {
      "cell_type": "code",
      "source": [
        "# 2502001164 - Marcelius Surya Wijaya\n",
        "# Euler 0.05\n",
        "import numpy as np\n",
        "import matplotlib.pyplot as plt\n",
        "\n",
        "f = lambda x,y : 2*y + 1\n",
        "eksak = lambda x : (-1/2) + ((3/2)*np.exp(2*x))\n",
        "\n",
        "# nilai x dan y\n",
        "x = 0\n",
        "xn = 1\n",
        "y = 1\n",
        "h2 = 0.05\n",
        "n = int((xn - x)/h2) #Mencari jumlah step\n",
        "\n",
        "# Set xp dari 0 sampai 1\n",
        "xp = np.linspace(x, xn, n+1)\n",
        "\n",
        "# Set nilai yp = 0\n",
        "yp = np.zeros(len(xp))\n",
        "yp[0] = y\n",
        "\n",
        "# Skema numerik Euler\n",
        "print('  x  |   Eksak  | Euler')\n",
        "print('----------------------')\n",
        "print('%.2f | %.6f | %.6f ' %(x,eksak(x),y))\n",
        "for i in range(1, n+1):\n",
        "  y = y + h2*f(x,y)\n",
        "  yp[i] = y\n",
        "  x = x + h2\n",
        "  print('%.2f | %.6f | %.6f ' %(x, eksak(x), y))\n",
        "yee=y\n",
        "# Plot graph\n",
        "plt.style.use('seaborn-poster')\n",
        "plt.figure(figsize=(10, 6))\n",
        "plt.title(\"Euler 0.05\")\n",
        "plt.plot(xp, yp, 'b-')\n",
        "plt.plot(xp, eksak(xp), 'r-')\n",
        "plt.legend(['Euler','Eksak'])\n",
        "plt.grid()\n",
        "plt.show()"
      ],
      "metadata": {
        "colab": {
          "base_uri": "https://localhost:8080/",
          "height": 807
        },
        "id": "Hni0SqVG061R",
        "outputId": "d413e349-3ac3-4032-c725-6ba25c08b520"
      },
      "execution_count": null,
      "outputs": [
        {
          "output_type": "stream",
          "name": "stdout",
          "text": [
            "  x  |   Eksak  | Euler\n",
            "----------------------\n",
            "0.00 | 1.000000 | 1.000000 \n",
            "0.05 | 1.157756 | 1.150000 \n",
            "0.10 | 1.332104 | 1.315000 \n",
            "0.15 | 1.524788 | 1.496500 \n",
            "0.20 | 1.737737 | 1.696150 \n",
            "0.25 | 1.973082 | 1.915765 \n",
            "0.30 | 2.233178 | 2.157341 \n",
            "0.35 | 2.520629 | 2.423076 \n",
            "0.40 | 2.838311 | 2.715383 \n",
            "0.45 | 3.189405 | 3.036922 \n",
            "0.50 | 3.577423 | 3.390614 \n",
            "0.55 | 4.006249 | 3.779675 \n",
            "0.60 | 4.480175 | 4.207643 \n",
            "0.65 | 5.003945 | 4.678407 \n",
            "0.70 | 5.582800 | 5.196248 \n",
            "0.75 | 6.222534 | 5.765872 \n",
            "0.80 | 6.929549 | 6.392459 \n",
            "0.85 | 7.710921 | 7.081705 \n",
            "0.90 | 8.574471 | 7.839876 \n",
            "0.95 | 9.528842 | 8.673864 \n",
            "1.00 | 10.583584 | 9.591250 \n"
          ]
        },
        {
          "output_type": "display_data",
          "data": {
            "text/plain": [
              "<Figure size 720x432 with 1 Axes>"
            ],
            "image/png": "[encoded data removed]"
          },
          "metadata": {
            "needs_background": "light"
          }
        }
      ]
    },
    {
      "cell_type": "markdown",
      "source": [
        "# Runge Kutta 0.05"
      ],
      "metadata": {
        "id": "Z0atPd_j35Oj"
      }
    },
    {
      "cell_type": "code",
      "source": [
        "# 2502001164 - Marcelius Surya Wijaya\n",
        "# Runge Kutta 0.05\n",
        "import numpy as np\n",
        "import matplotlib.pyplot as plt\n",
        "\n",
        "f = lambda x,y : 2*y + 1\n",
        "eksak = lambda x : (-1/2) + ((3/2)*np.exp(2*x))\n",
        "\n",
        "# nilai x dan y\n",
        "x = 0\n",
        "xn = 1\n",
        "y = 1\n",
        "h2 = 0.05\n",
        "n = int((xn - x)/h2) #Mencari jumlah step\n",
        "\n",
        "# Set xp dari 0 sampai 1\n",
        "xp = np.linspace(x, xn, n+1)\n",
        "\n",
        "# Set nilai yp = 0\n",
        "yp = np.zeros(len(xp))\n",
        "yp[0] = y\n",
        "\n",
        "# Skema numerik Runge Kutta\n",
        "print('  x  |   Eksak  | RungeKutta')\n",
        "print('----------------------')\n",
        "print('%.2f | %.6f | %.6f ' %(x,eksak(x),y))\n",
        "for i in range(1, n+1):\n",
        "  K1 = h2*f(x,y)\n",
        "  K2 = h2*f(x+h2, y + K1/2)\n",
        "  K3 = h2*f(x+h2, y - K1*K2/2)\n",
        "  K4 = h2*f(x+h2, y + K3)\n",
        "  y = y + (1/6)*(K1 + 2*K2 + 2*K3 + K4)\n",
        "  yp[i] = y\n",
        "  x = x + h2\n",
        "  print('%.2f | %.6f | %.6f ' %(x, eksak(x), y))\n",
        "yrr=y\n",
        "# Plot graph\n",
        "plt.style.use('seaborn-poster')\n",
        "plt.figure(figsize=(10, 6))\n",
        "plt.title(\"Runge Kutta 0.05\")\n",
        "plt.plot(xp, yp, 'b-')\n",
        "plt.plot(xp, eksak(xp), 'r-')\n",
        "plt.legend(['Runge Kutta','Eksak'])\n",
        "plt.grid()\n",
        "plt.show()"
      ],
      "metadata": {
        "colab": {
          "base_uri": "https://localhost:8080/",
          "height": 807
        },
        "id": "8l5iiAJ039rU",
        "outputId": "df0a4b1d-bc3c-4fe2-a31c-e255708ef969"
      },
      "execution_count": null,
      "outputs": [
        {
          "output_type": "stream",
          "name": "stdout",
          "text": [
            "  x  |   Eksak  | RungeKutta\n",
            "----------------------\n",
            "0.00 | 1.000000 | 1.000000 \n",
            "0.05 | 1.157756 | 1.154587 \n",
            "0.10 | 1.332104 | 1.325057 \n",
            "0.15 | 1.524788 | 1.513035 \n",
            "0.20 | 1.737737 | 1.720304 \n",
            "0.25 | 1.973082 | 1.948829 \n",
            "0.30 | 2.233178 | 2.200773 \n",
            "0.35 | 2.520629 | 2.478513 \n",
            "0.40 | 2.838311 | 2.784662 \n",
            "0.45 | 3.189405 | 3.122095 \n",
            "0.50 | 3.577423 | 3.493967 \n",
            "0.55 | 4.006249 | 3.903746 \n",
            "0.60 | 4.480175 | 4.355236 \n",
            "0.65 | 5.003945 | 4.852612 \n",
            "0.70 | 5.582800 | 5.400451 \n",
            "0.75 | 6.222534 | 6.003767 \n",
            "0.80 | 6.929549 | 6.668050 \n",
            "0.85 | 7.710921 | 7.399308 \n",
            "0.90 | 8.574471 | 8.204104 \n",
            "0.95 | 9.528842 | 9.089607 \n",
            "1.00 | 10.583584 | 10.063635 \n"
          ]
        },
        {
          "output_type": "display_data",
          "data": {
            "text/plain": [
              "<Figure size 720x432 with 1 Axes>"
            ],
            "image/png": "[encoded data removed]"
          },
          "metadata": {
            "needs_background": "light"
          }
        }
      ]
    },
    {
      "cell_type": "markdown",
      "source": [
        "# 4C"
      ],
      "metadata": {
        "id": "BDjeZEwtGA5k"
      }
    },
    {
      "cell_type": "code",
      "source": [
        "# Mencari Relative error terhadap solusi eksak\n",
        "print('Eksak            : %.6f' %eksak(1))\n",
        "print('Euler 0.01       : %.6f' %ye)\n",
        "print('Runge Kutta 0.01 : %.6f' %yr)\n",
        "print('Euler 0.05       : %.6f' %yee)\n",
        "print('Runge Kutta 0.05 : %.6f' %yrr)\n",
        "\n",
        "# Define fungsi error\n",
        "def errorCheck(a,eksaks):\n",
        "  e = ((abs(a-eksaks))/eksaks)*100\n",
        "  return e\n",
        "\n",
        "print('\\n-------Error-------')\n",
        "print('Euler 0.01       : %.6f' %errorCheck(ye,eksak(1)))\n",
        "print('Runge Kutta 0.01 : %.6f' %errorCheck(yr,eksak(1)))\n",
        "print('Euler 0.05       : %.6f' %errorCheck(yee,eksak(1)))\n",
        "print('Runge Kutta 0.05 : %.6f' %errorCheck(yrr,eksak(1)))"
      ],
      "metadata": {
        "colab": {
          "base_uri": "https://localhost:8080/"
        },
        "id": "Nel2BGMyGApg",
        "outputId": "a6d737a5-83d7-4f20-f747-9523fc6cd9ee"
      },
      "execution_count": null,
      "outputs": [
        {
          "output_type": "stream",
          "name": "stdout",
          "text": [
            "Eksak            : 10.583584\n",
            "Euler 0.01       : 10.366969\n",
            "Runge Kutta 0.01 : 10.503015\n",
            "Euler 0.05       : 9.591250\n",
            "Runge Kutta 0.05 : 10.063635\n",
            "\n",
            "-------Error-------\n",
            "Euler 0.01       : 2.046707\n",
            "Runge Kutta 0.01 : 0.761269\n",
            "Euler 0.05       : 9.376164\n",
            "Runge Kutta 0.05 : 4.912791\n"
          ]
        }
      ]
    }
  ]
}