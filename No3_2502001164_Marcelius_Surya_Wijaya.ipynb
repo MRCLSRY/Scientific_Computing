{
  "nbformat": 4,
  "nbformat_minor": 0,
  "metadata": {
    "colab": {
      "provenance": []
    },
    "kernelspec": {
      "name": "python3",
      "display_name": "Python 3"
    },
    "language_info": {
      "name": "python"
    }
  },
  "cells": [
    {
      "cell_type": "markdown",
      "source": [
        "# No 3"
      ],
      "metadata": {
        "id": "cOSy5oBUXV_v"
      }
    },
    {
      "cell_type": "markdown",
      "source": [
        "2502001154 - Marcelius Surya Wijaya"
      ],
      "metadata": {
        "id": "iyvrZrKhw9lY"
      }
    },
    {
      "cell_type": "markdown",
      "source": [
        "Main code"
      ],
      "metadata": {
        "id": "Z93htGEuZhpS"
      }
    },
    {
      "cell_type": "code",
      "execution_count": null,
      "metadata": {
        "colab": {
          "base_uri": "https://localhost:8080/"
        },
        "id": "tZ5LVvvdWn_3",
        "outputId": "c94b2bdb-f69f-4674-d41b-4c752f56d76a"
      },
      "outputs": [
        {
          "output_type": "stream",
          "name": "stdout",
          "text": [
            "Hasil Eksak : 289.435147\n",
            "Hasil Riemann : 287.161823\n",
            "Hasil Simpsons : 289.435146\n",
            "Hasil Trapezoid : 289.428143\n"
          ]
        }
      ],
      "source": [
        "# 2502001154 - Marcelius Surya Wijaya\n",
        "# Define yang diketahui\n",
        "import numpy as np\n",
        "v = lambda t: ((g * m) / c) * (1 - np.exp (-(c / m) * t))\n",
        "g = 9.8\n",
        "m = 68.1\n",
        "c = 12.5\n",
        "t0 = 0\n",
        "t1 = 10 #10 detik\n",
        "n = 100\n",
        "\n",
        "# Membuat fungsi untuk mencari nilai eksak\n",
        "feksak = lambda t: ((g * m) * (m * (np.exp( - (c * t)/m)) + (c * t))) / (c**2)\n",
        "\n",
        "# Membuat fungsi untuk mencari nilai riemann\n",
        "def riemann(f, a, b, n):\n",
        "  h = (b - a) / (n - 1)\n",
        "  x = np.linspace(a, b, n)\n",
        "  y = 0\n",
        "  for i in x [:n - 1]:\n",
        "    y += h * f(i)\n",
        "  return y\n",
        "\n",
        "# Memuat fungsi untuk mencari nilai simpsons\n",
        "def simpsons(f, a, b, n):\n",
        "  deltaX = (b - a) / n\n",
        "  x = np.linspace(a, b, n+1)\n",
        "  y = f(x)\n",
        "  ysimps = (deltaX/3) * np.sum(y [0:-1:2] + 4 * y [1::2] + y [2::2])\n",
        "  return ysimps\n",
        "\n",
        "# Membuat fungsi untuk mencari nilai trapezoid\n",
        "def trapezoid(f, a, b, n):\n",
        "  h = (b - a) / (n - 1)\n",
        "  x = np.linspace(a, b, n)\n",
        "  n = 0\n",
        "  for i in x[1:n-1]:\n",
        "    n += f(i)\n",
        "  y = (f(x[:1]) + (2*n) + f(x[-1::])) * (h/2)\n",
        "  return y\n",
        "\n",
        "# Print hasil\n",
        "EksakResult = feksak(10) - feksak(0)\n",
        "print('Hasil Eksak : %.6f' %EksakResult)\n",
        "\n",
        "RiemannResult = riemann(v, t0, t1, n)\n",
        "print('Hasil Riemann : %.6f' %RiemannResult)\n",
        "\n",
        "SimpsonsResult = simpsons(v, t0, t1, n)\n",
        "print('Hasil Simpsons : %.6f' %SimpsonsResult)\n",
        "\n",
        "TrapezoidResult = trapezoid(v, t0, t1, n)\n",
        "print('Hasil Trapezoid : %.6f' %TrapezoidResult)"
      ]
    },
    {
      "cell_type": "markdown",
      "source": [
        "Mencari besar error"
      ],
      "metadata": {
        "id": "79IIxaPLaSa3"
      }
    },
    {
      "cell_type": "code",
      "source": [
        "ErrorReimann = (abs(EksakResult-RiemannResult) / EksakResult)*100\n",
        "print('Error Reimann : %.10f %%' %ErrorReimann)\n",
        "\n",
        "ErrorSimpsons = (abs(EksakResult-SimpsonsResult) / EksakResult)*100\n",
        "print('Error Simpsons : %.10f %%' %ErrorSimpsons)\n",
        "\n",
        "ErrorTrapezoid = (abs(EksakResult-TrapezoidResult) / EksakResult)*100\n",
        "print('Error Trapezoid : %.10f %%' %ErrorTrapezoid)"
      ],
      "metadata": {
        "colab": {
          "base_uri": "https://localhost:8080/"
        },
        "id": "fIcR_8DNaRsY",
        "outputId": "42998ad9-489d-456f-a62c-6d29ef123338"
      },
      "execution_count": null,
      "outputs": [
        {
          "output_type": "stream",
          "name": "stdout",
          "text": [
            "Error Reimann : 0.7854344179 %\n",
            "Error Simpsons : 0.0000000533 %\n",
            "Error Trapezoid : 0.0024196021 %\n"
          ]
        }
      ]
    }
  ]
}